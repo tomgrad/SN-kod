{
 "cells": [
  {
   "cell_type": "markdown",
   "metadata": {},
   "source": [
    "[generator zbiorów uczących](https://editor.p5js.org/tomgrad/present/HMQm5flEA)"
   ]
  },
  {
   "cell_type": "code",
   "execution_count": 1,
   "metadata": {},
   "outputs": [
    {
     "name": "stdout",
     "output_type": "stream",
     "text": [
      "Populating the interactive namespace from numpy and matplotlib\n"
     ]
    }
   ],
   "source": [
    "%pylab inline"
   ]
  },
  {
   "cell_type": "code",
   "execution_count": 2,
   "metadata": {},
   "outputs": [],
   "source": [
    "class Linear:\n",
    "    '''Warstwa liniowa - f(x)=Wx+b'''\n",
    "    def __init__(self, inputs, outputs):\n",
    "        '''\n",
    "        inputs - liczba cech\n",
    "        outputs - liczba klas\n",
    "        '''\n",
    "        self.b=np.zeros(outputs)\n",
    "        self.w=2*np.random.rand(outputs, inputs)-1\n",
    "    def forward(self, x):\n",
    "        self.x=x\n",
    "        return self.w@x+self.b\n",
    "    def backward(self, grad):\n",
    "        self.grad_w=np.outer(grad, self.x)\n",
    "        self.grad_b=grad\n",
    "        return grad@self.w\n",
    "    def learn(self, learning_rate):\n",
    "        self.w -= self.grad_w * learning_rate\n",
    "        self.b -= self.grad_b * learning_rate        "
   ]
  },
  {
   "cell_type": "code",
   "execution_count": 3,
   "metadata": {},
   "outputs": [],
   "source": [
    "class Softmax:\n",
    "    '''Funkcja aktywacji zwracająca prawdopodobieństwa - znormalizowane wartości e^x'''\n",
    "    def forward(self, x):\n",
    "        x=np.exp(x)\n",
    "        self.y=x/np.sum(x)\n",
    "        return self.y\n",
    "    def backward(self, grad):\n",
    "        return grad*self.y*(1-self.y)"
   ]
  },
  {
   "cell_type": "code",
   "execution_count": 4,
   "metadata": {},
   "outputs": [],
   "source": [
    "class CrossEntropyLoss:\n",
    "    '''Funkcja straty - entropia krzyżowa'''\n",
    "    def __call__(self, prob, correct):\n",
    "        '''\n",
    "        prob - wektor prawdopodobieństw\n",
    "        correct - indeks właściwej klasy\n",
    "        '''\n",
    "        grad=np.zeros(prob.shape)\n",
    "        grad[correct] = -1/prob[correct]\n",
    "        return -np.log(prob[correct]), grad"
   ]
  },
  {
   "cell_type": "code",
   "execution_count": 5,
   "metadata": {},
   "outputs": [],
   "source": [
    "class LinearClassifier:\n",
    "    '''Klasyfikator liniowy'''\n",
    "    def __init__(self, inputs, outputs):\n",
    "        '''\n",
    "        inputs - liczba cech\n",
    "        outputs - liczba klas\n",
    "        '''        \n",
    "        self.l=Linear(inputs, outputs)\n",
    "        self.s=Softmax()\n",
    "        self.loss=CrossEntropyLoss()\n",
    "    def forward(self, x):\n",
    "        x=self.l.forward(x)\n",
    "        x=self.s.forward(x)\n",
    "        return x\n",
    "    def train(self, X, Y, learning_rate):\n",
    "        '''\n",
    "        SGD epoch\n",
    "        X, Y - zestaw uczący (cechy, klasy)\n",
    "        learning_rate - szybkość uczenia\n",
    "        '''\n",
    "        order_list=[i for i in range(len(Y))]\n",
    "        np.random.shuffle(order_list)\n",
    "        total_loss=0\n",
    "        for i in order_list:\n",
    "            x=self.forward(X[i])\n",
    "            loss, grad = self.loss(x, Y[i])\n",
    "            total_loss+=loss\n",
    "            grad=self.s.backward(grad)\n",
    "            self.l.backward(grad)\n",
    "            self.l.learn(learning_rate)\n",
    "        return total_loss"
   ]
  },
  {
   "cell_type": "code",
   "execution_count": 6,
   "metadata": {},
   "outputs": [],
   "source": [
    "data=loadtxt('lin01.txt')\n",
    "X, Y = data[:,1:], data[:,0].astype('int')"
   ]
  },
  {
   "cell_type": "code",
   "execution_count": 7,
   "metadata": {},
   "outputs": [],
   "source": [
    "model=LinearClassifier(2, max(Y)+1)"
   ]
  },
  {
   "cell_type": "code",
   "execution_count": 8,
   "metadata": {},
   "outputs": [],
   "source": [
    "epochs=[]"
   ]
  },
  {
   "cell_type": "code",
   "execution_count": 9,
   "metadata": {},
   "outputs": [],
   "source": [
    "for i in range(1000):\n",
    "    epochs.append(model.train(X,Y, 1))"
   ]
  },
  {
   "cell_type": "code",
   "execution_count": 10,
   "metadata": {},
   "outputs": [
    {
     "data": {
      "text/plain": [
       "[<matplotlib.lines.Line2D at 0x7f2d948c1be0>]"
      ]
     },
     "execution_count": 10,
     "metadata": {},
     "output_type": "execute_result"
    },
    {
     "data": {
      "image/png": "[encoded data removed]",
      "text/plain": [
       "<Figure size 432x288 with 1 Axes>"
      ]
     },
     "metadata": {
      "needs_background": "light"
     },
     "output_type": "display_data"
    }
   ],
   "source": [
    "plot(epochs)"
   ]
  },
  {
   "cell_type": "code",
   "execution_count": 11,
   "metadata": {},
   "outputs": [
    {
     "data": {
      "text/plain": [
       "0.09918254206067734"
      ]
     },
     "execution_count": 11,
     "metadata": {},
     "output_type": "execute_result"
    }
   ],
   "source": [
    "model.train(X,Y, 0.1)"
   ]
  },
  {
   "cell_type": "code",
   "execution_count": 12,
   "metadata": {},
   "outputs": [
    {
     "data": {
      "text/plain": [
       "<matplotlib.collections.PathCollection at 0x7f2d94756070>"
      ]
     },
     "execution_count": 12,
     "metadata": {},
     "output_type": "execute_result"
    },
    {
     "data": {
      "image/png": "[encoded data removed]",
      "text/plain": [
       "<Figure size 360x360 with 1 Axes>"
      ]
     },
     "metadata": {
      "needs_background": "light"
     },
     "output_type": "display_data"
    }
   ],
   "source": [
    "n=50 # rozdzielczość\n",
    "z=zeros((n,n))\n",
    "x=linspace(0,1,n)\n",
    "for i in range(n):\n",
    "    for j in range(n):\n",
    "        z[i,j]=np.argmax(model.forward([x[j], x[i]]))\n",
    "figsize(5,5)\n",
    "contourf(x,x,z, vmin=0, vmax=max(Y));\n",
    "scatter(X[:,0], X[:,1], c=Y, edgecolors=(0,0,0))"
   ]
  },
  {
   "cell_type": "code",
   "execution_count": 13,
   "metadata": {},
   "outputs": [
    {
     "data": {
      "text/plain": [
       "[array([9.99985552e-01, 1.38214646e-05, 6.26243354e-07]),\n",
       " array([9.99457395e-01, 5.42426535e-04, 1.78027523e-07]),\n",
       " array([0.9677358 , 0.03056477, 0.00169943]),\n",
       " array([0.00135245, 0.97135652, 0.02729103]),\n",
       " array([1.24413468e-04, 9.98455690e-01, 1.41989698e-03]),\n",
       " array([6.76442329e-07, 9.99833844e-01, 1.65479373e-04]),\n",
       " array([7.07144473e-04, 2.53477243e-02, 9.73945131e-01]),\n",
       " array([4.29305315e-04, 6.09265578e-05, 9.99509768e-01]),\n",
       " array([1.70448209e-08, 7.99808216e-03, 9.92001901e-01])]"
      ]
     },
     "execution_count": 13,
     "metadata": {},
     "output_type": "execute_result"
    }
   ],
   "source": [
    "[model.forward(x) for x in X]"
   ]
  },
  {
   "cell_type": "code",
   "execution_count": null,
   "metadata": {},
   "outputs": [],
   "source": []
  }
 ],
 "metadata": {
  "kernelspec": {
   "display_name": "Python 3",
   "language": "python",
   "name": "python3"
  },
  "language_info": {
   "codemirror_mode": {
    "name": "ipython",
    "version": 3
   },
   "file_extension": ".py",
   "mimetype": "text/x-python",
   "name": "python",
   "nbconvert_exporter": "python",
   "pygments_lexer": "ipython3",
   "version": "3.9.2"
  }
 },
 "nbformat": 4,
 "nbformat_minor": 4
}
